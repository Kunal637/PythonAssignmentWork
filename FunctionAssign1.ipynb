{
 "cells": [
  {
   "cell_type": "markdown",
   "id": "806b072d-139a-4a0f-aaa4-ea6a0761dbd0",
   "metadata": {},
   "source": [
    "# Function Assignment 1"
   ]
  },
  {
   "cell_type": "code",
   "execution_count": 1,
   "id": "a05d01ae-4a78-47cc-8bb7-4098b8150e59",
   "metadata": {},
   "outputs": [
    {
     "data": {
      "text/plain": [
       "6"
      ]
     },
     "execution_count": 1,
     "metadata": {},
     "output_type": "execute_result"
    }
   ],
   "source": [
    "# 1. Write a Python function to find the maximum of three numbers\n",
    "\n",
    "def max_of_three(num1,num2,num3):\n",
    "    return(max(num1,num2,num3))\n",
    "\n",
    "max_of_three(4,6,3)          "
   ]
  },
  {
   "cell_type": "code",
   "execution_count": 3,
   "id": "3cc4dcd0-405c-4e46-a841-a75f75683e32",
   "metadata": {},
   "outputs": [
    {
     "data": {
      "text/plain": [
       "20"
      ]
     },
     "execution_count": 3,
     "metadata": {},
     "output_type": "execute_result"
    }
   ],
   "source": [
    "''' \n",
    "2. Write a Python function to sum all the numbers in a list. \n",
    "Sample List : (8, 2, 3, 0, 7) \n",
    "Expected Output : 20 \n",
    "'''\n",
    "\n",
    "def sum_list(numbers):\n",
    "    return sum(numbers)\n",
    "    \n",
    "lst1 = [8, 2, 3, 0, 7]\n",
    "sum_list(lst1)"
   ]
  },
  {
   "cell_type": "code",
   "execution_count": 17,
   "id": "a1e9358f-6f1e-4b55-8bfa-0e7e53f6130e",
   "metadata": {},
   "outputs": [
    {
     "data": {
      "text/plain": [
       "-336"
      ]
     },
     "execution_count": 17,
     "metadata": {},
     "output_type": "execute_result"
    }
   ],
   "source": [
    "'''\n",
    "3. Write a Python function to multiply all the numbers in a list. \n",
    "Sample List : (8, 2, 3, -1, 7) \n",
    "Expected Output : -336\n",
    "'''\n",
    "\n",
    "def multi_list(numbers):\n",
    "    a = 1\n",
    "    for i in numbers:\n",
    "        a*=i\n",
    "    return a\n",
    "    \n",
    "lst1 = [8,2,3,-1,7]\n",
    "multi_list(lst1)"
   ]
  },
  {
   "cell_type": "code",
   "execution_count": 22,
   "id": "20c6c297-e873-4f99-8bce-a33e94b18aae",
   "metadata": {},
   "outputs": [
    {
     "data": {
      "text/plain": [
       "'dcba4321'"
      ]
     },
     "execution_count": 22,
     "metadata": {},
     "output_type": "execute_result"
    }
   ],
   "source": [
    "'''\n",
    "4. Write a Python program to reverse a string. \n",
    "Sample String : \"1234abcd\" \n",
    "Expected Output : \"dcba4321\"\n",
    "'''\n",
    "def rev_str(string):\n",
    "    return string[::-1]\n",
    "\n",
    "string1 = \"1234abcd\" \n",
    "rev_str(string1)   \n"
   ]
  },
  {
   "cell_type": "code",
   "execution_count": 28,
   "id": "7f5bafe2-379e-4b9e-8e9f-69737fd690c6",
   "metadata": {},
   "outputs": [
    {
     "data": {
      "text/plain": [
       "720"
      ]
     },
     "execution_count": 28,
     "metadata": {},
     "output_type": "execute_result"
    }
   ],
   "source": [
    "'''\n",
    "5. Write a Python function to calculate the factorial of a number (a non-negative \n",
    "integer). The function accepts the number as an argument.\n",
    "'''\n",
    "\n",
    "def factorial(n):\n",
    "    if n < 0:\n",
    "        return \"Factorial is not defined for negative numbers.\"\n",
    "    elif n == 0 or n == 1:\n",
    "        return 1\n",
    "    else:\n",
    "        return n * factorial(n - 1) \n",
    "\n",
    "\n",
    "number = 6\n",
    "factorial(number)\n",
    "\n",
    "\n"
   ]
  },
  {
   "cell_type": "code",
   "execution_count": 33,
   "id": "0a31e9aa-0259-42bd-95c1-abc24e18ee8b",
   "metadata": {},
   "outputs": [
    {
     "data": {
      "text/plain": [
       "False"
      ]
     },
     "execution_count": 33,
     "metadata": {},
     "output_type": "execute_result"
    }
   ],
   "source": [
    "'''\n",
    "6. Write a Python function to check whether a number falls within a given range.\n",
    "'''\n",
    "\n",
    "def check_range(num,lst):\n",
    "    check = num in lst\n",
    "    return check\n",
    "    \n",
    "range1 = range(10)\n",
    "num1 = -1\n",
    "check_range(num1, range1)"
   ]
  },
  {
   "cell_type": "code",
   "execution_count": 35,
   "id": "c403e4b5-803d-4012-a838-6664e27ea655",
   "metadata": {},
   "outputs": [
    {
     "data": {
      "text/plain": [
       "(3, 12)"
      ]
     },
     "execution_count": 35,
     "metadata": {},
     "output_type": "execute_result"
    }
   ],
   "source": [
    "'''\n",
    "7. Write a Python function that accepts a string and counts the number of upper \n",
    "and lower case letters. \n",
    "Sample String : 'The quick Brow Fox' \n",
    "Expected Output : \n",
    "No. of Upper case characters : 3 \n",
    "No. of Lower case Characters : 12\n",
    "'''\n",
    "\n",
    "def count_case(s):\n",
    "    upper_count = 0\n",
    "    lower_count = 0\n",
    "    \n",
    "    for char in s:\n",
    "        if char.isupper(): \n",
    "            upper_count += 1\n",
    "        elif char.islower(): \n",
    "            lower_count += 1\n",
    "    return upper_count, lower_count\n",
    "    \n",
    "sample_string = 'The quick Brow Fox'\n",
    "count_case(sample_string)"
   ]
  },
  {
   "cell_type": "code",
   "execution_count": 39,
   "id": "35477e4d-ce77-4cf9-8fd6-a6b11b396a08",
   "metadata": {},
   "outputs": [
    {
     "data": {
      "text/plain": [
       "[1, 2, 3, 4, 5]"
      ]
     },
     "execution_count": 39,
     "metadata": {},
     "output_type": "execute_result"
    }
   ],
   "source": [
    "'''\n",
    "8. Write a Python function that takes a list and returns a new list with distinct \n",
    "elements from the first list. \n",
    "Sample List : [1,2,3,3,3,3,4,5] \n",
    "Unique List : [1, 2, 3, 4, 5]\n",
    "'''\n",
    "\n",
    "def unique_list(lst):\n",
    "    return list(set(lst))\n",
    "\n",
    "sample_list = [1, 2, 3, 3, 3, 3, 4, 5]\n",
    "\n",
    "unique_list(sample_list)\n",
    "\n"
   ]
  },
  {
   "cell_type": "code",
   "execution_count": 51,
   "id": "965c3955-7047-4073-8121-4d2f025922c1",
   "metadata": {},
   "outputs": [
    {
     "data": {
      "text/plain": [
       "False"
      ]
     },
     "execution_count": 51,
     "metadata": {},
     "output_type": "execute_result"
    }
   ],
   "source": [
    "'''\n",
    "9. Write a Python function that takes a number as a parameter and checks \n",
    "whether the number is prime or not. \n",
    "Note : A prime number (or a prime) is a natural number greater than 1 and that \n",
    "has no positive divisors other than 1 and itself.\n",
    "'''\n",
    "def is_prime(num):\n",
    "    if num > 1:\n",
    "        for i in range(2, int(num ** 0.5) + 1):\n",
    "            if num % i == 0:\n",
    "                return  False\n",
    "        return True\n",
    "    else:\n",
    "        return False\n",
    "\n",
    "is_prime(6)\n"
   ]
  },
  {
   "cell_type": "code",
   "execution_count": 48,
   "id": "be57a206-98b7-4d2d-8b26-f3d9738a6731",
   "metadata": {},
   "outputs": [
    {
     "data": {
      "text/plain": [
       "[2, 4, 6, 8]"
      ]
     },
     "execution_count": 48,
     "metadata": {},
     "output_type": "execute_result"
    }
   ],
   "source": [
    "'''\n",
    "10. Write a Python program to print the even numbers from a given list. \n",
    "Sample List : [1, 2, 3, 4, 5, 6, 7, 8, 9]\n",
    "Expected Result : [2, 4, 6, 8]\n",
    "'''\n",
    "\n",
    "def even_list(lst):\n",
    "    return [num for num in lst if num % 2 == 0]\n",
    "\n",
    "\n",
    "sample_list = [1, 2, 3, 4, 5, 6, 7, 8, 9]\n",
    "even_list(sample_list)\n"
   ]
  },
  {
   "cell_type": "code",
   "execution_count": 49,
   "id": "b6e0432b-4355-4f67-9675-af580c573a5d",
   "metadata": {},
   "outputs": [
    {
     "data": {
      "text/plain": [
       "True"
      ]
     },
     "execution_count": 49,
     "metadata": {},
     "output_type": "execute_result"
    }
   ],
   "source": [
    "'''\n",
    "11. Write a Python function to check whether a number is \"Perfect\" or not. \n",
    "According to Wikipedia : In number theory, a perfect number is a positive integer \n",
    "that is equal to the sum of its proper positive divisors, that is, the sum of its \n",
    "positive divisors excluding the number itself (also known as its aliquot sum). \n",
    "Equivalently, a perfect number is a number that is half the sum of all of its \n",
    "positive divisors (including itself). \n",
    "Example : The first perfect number is 6, because 1, 2, and 3 are its proper positive \n",
    "divisors, and 1 + 2 + 3 = 6. Equivalently, the number 6 is equal to half the sum of \n",
    "all its positive divisors: ( 1 + 2 + 3 + 6 ) / 2 = 6. The next perfect number is 28 = 1 + \n",
    "2 + 4 + 7 + 14. This is followed by the perfect numbers 496 and 8128. \n",
    "\n",
    "'''\n",
    "\n",
    "def is_perfect(num):\n",
    "    divisors_sum = 0\n",
    "    for i in range(1, num // 2 + 1):\n",
    "        if num % i == 0:\n",
    "            divisors_sum += i\n",
    "    return divisors_sum == num\n",
    "is_perfect(6)"
   ]
  },
  {
   "cell_type": "code",
   "execution_count": 52,
   "id": "c5c49a93-d26e-44ea-ab61-d20b6c48cb07",
   "metadata": {},
   "outputs": [
    {
     "name": "stdout",
     "output_type": "stream",
     "text": [
      "True\n",
      "True\n",
      "False\n"
     ]
    }
   ],
   "source": [
    "'''\n",
    "12. Write a Python function that checks whether a passed string is a palindrome \n",
    "or not. \n",
    "Note: A palindrome is a word, phrase, or sequence that reads the same backward \n",
    "as forward, e.g., madam or nurses run.\n",
    "'''\n",
    "\n",
    "def is_palindrome(s):\n",
    "    s = s.replace(\" \", \"\").lower()\n",
    "    return s == s[::-1]\n",
    "\n",
    "print(is_palindrome(\"madam\"))        \n",
    "print(is_palindrome(\"nurses run\"))  \n",
    "print(is_palindrome(\"hello\"))       "
   ]
  },
  {
   "cell_type": "code",
   "execution_count": null,
   "id": "17a69f8e-c1fd-49ba-ad61-acfd07c8a4a4",
   "metadata": {},
   "outputs": [],
   "source": []
  }
 ],
 "metadata": {
  "kernelspec": {
   "display_name": "Python 3 (ipykernel)",
   "language": "python",
   "name": "python3"
  },
  "language_info": {
   "codemirror_mode": {
    "name": "ipython",
    "version": 3
   },
   "file_extension": ".py",
   "mimetype": "text/x-python",
   "name": "python",
   "nbconvert_exporter": "python",
   "pygments_lexer": "ipython3",
   "version": "3.12.7"
  }
 },
 "nbformat": 4,
 "nbformat_minor": 5
}
