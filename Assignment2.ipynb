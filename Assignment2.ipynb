{
 "cells": [
  {
   "cell_type": "markdown",
   "id": "a388d013-65cc-4261-b96a-91ab959b64c5",
   "metadata": {},
   "source": [
    "# Questions:"
   ]
  },
  {
   "cell_type": "markdown",
   "id": "c339cb63-aadc-4259-a4de-53af80add4cc",
   "metadata": {},
   "source": [
    " ## 1) Area of a Rectangle: "
   ]
  },
  {
   "cell_type": "code",
   "execution_count": 15,
   "id": "1e3499dc-7071-448f-9087-f81d34d3300c",
   "metadata": {},
   "outputs": [
    {
     "name": "stdin",
     "output_type": "stream",
     "text": [
      "Enter length of rectangle :  4\n",
      "Enter your width of rectangle :  5\n"
     ]
    },
    {
     "name": "stdout",
     "output_type": "stream",
     "text": [
      "The area of given rectangle is 20\n"
     ]
    }
   ],
   "source": [
    "length = int(input(\"Enter length of rectangle : \"))\n",
    "width = int(input(\"Enter your width of rectangle : \"))\n",
    "Area = length * width\n",
    "print(f'The area of given rectangle is {Area}')"
   ]
  },
  {
   "cell_type": "markdown",
   "id": "301023e1-a333-4e3e-9b9e-98a8d77dc8c1",
   "metadata": {},
   "source": [
    "## 2) Circumference of a Circle: "
   ]
  },
  {
   "cell_type": "code",
   "execution_count": 16,
   "id": "44f2f2d0-c9ca-4026-bcce-b0680eb32cac",
   "metadata": {},
   "outputs": [
    {
     "name": "stdin",
     "output_type": "stream",
     "text": [
      "Enter redius of circle:  4\n"
     ]
    },
    {
     "name": "stdout",
     "output_type": "stream",
     "text": [
      "The circumference of given circle is 25.132741228718345\n"
     ]
    }
   ],
   "source": [
    "import math\n",
    "radius = float(input(\"Enter redius of circle: \"))\n",
    "𝑪𝒊𝒓𝒄𝒖𝒎𝒇𝒆𝒓𝒆𝒏𝒄𝒆 = 2*math.pi*radius\n",
    "print(f'The circumference of given circle is {𝑪𝒊𝒓𝒄𝒖𝒎𝒇𝒆𝒓𝒆𝒏𝒄𝒆}')"
   ]
  },
  {
   "cell_type": "markdown",
   "id": "77cf2324-68ca-439e-8afe-b8b327dce1d0",
   "metadata": {},
   "source": [
    "## 3) Simple Interest: "
   ]
  },
  {
   "cell_type": "code",
   "execution_count": 17,
   "id": "30de927a-5e6f-440e-98fc-c88cf478bd12",
   "metadata": {},
   "outputs": [
    {
     "name": "stdin",
     "output_type": "stream",
     "text": [
      "Enter a princinpal ammount:  4000\n",
      "Enter a interest rate in percent:  0.3\n",
      "Enter a time in years:  1\n"
     ]
    },
    {
     "name": "stdout",
     "output_type": "stream",
     "text": [
      " The Simple Intrest of given amount is 1200.0\n"
     ]
    }
   ],
   "source": [
    "Principal = float(input(\"Enter a princinpal ammount: \"))\n",
    "Rate = float(input(\"Enter a interest rate in percent: \"))\n",
    "Time = float(input(\"Enter a time in years: \"))\n",
    "Simple_Interest = 𝑷𝒓𝒊𝒏𝒄𝒊𝒑𝒂𝒍 * 𝑹𝒂𝒕𝒆 * 𝑻𝒊𝒎𝒆 \n",
    "print(f' The Simple Intrest of given amount is {Simple_Interest}')"
   ]
  },
  {
   "cell_type": "markdown",
   "id": "0f661231-ce07-4b87-a13b-dc4dc429d0bf",
   "metadata": {},
   "source": [
    "## 4) Speed of an Object: "
   ]
  },
  {
   "cell_type": "code",
   "execution_count": 19,
   "id": "3724b3d9-aca9-4adc-8954-0e805c138d0c",
   "metadata": {},
   "outputs": [
    {
     "name": "stdin",
     "output_type": "stream",
     "text": [
      "Enter a distance:  5000\n",
      "Enter a time:  10\n"
     ]
    },
    {
     "name": "stdout",
     "output_type": "stream",
     "text": [
      "The Speed is 500.0\n"
     ]
    }
   ],
   "source": [
    "Distance = float(input(\"Enter a distance: \"))\n",
    "Time = float(input(\"Enter a time: \"))\n",
    "Speed = Distance / Time\n",
    "print(f'The Speed is {Speed}')"
   ]
  },
  {
   "cell_type": "markdown",
   "id": "3bb2db3c-ca9d-4525-a301-b122d8c63da7",
   "metadata": {},
   "source": [
    "## 5) BMI Calculator: "
   ]
  },
  {
   "cell_type": "code",
   "execution_count": 21,
   "id": "c0d990ca-affa-4269-9a80-acdd28608d92",
   "metadata": {},
   "outputs": [
    {
     "name": "stdin",
     "output_type": "stream",
     "text": [
      "Enter a weight in kilograms:  50\n",
      "Enter a height in meters:  3\n"
     ]
    },
    {
     "name": "stdout",
     "output_type": "stream",
     "text": [
      "The BMI is 5.555555555555555\n"
     ]
    }
   ],
   "source": [
    "Weight_in_kg = float(input(\"Enter a weight in kilograms: \"))\n",
    "Height_in__m = float(input(\"Enter a height in meters: \"))\n",
    "BMI = Weight_in_kg/(Height_in__m**2) \n",
    "print(f'The BMI is {BMI}')"
   ]
  },
  {
   "cell_type": "markdown",
   "id": "a4b06251-c153-4a8d-9c00-bc835b59cb4f",
   "metadata": {},
   "source": [
    "## 6) Force Using Newton's Second Law: "
   ]
  },
  {
   "cell_type": "code",
   "execution_count": 23,
   "id": "d1e00b32-6e40-4989-acd8-7d56fa0d4eb9",
   "metadata": {},
   "outputs": [
    {
     "name": "stdin",
     "output_type": "stream",
     "text": [
      "Enter a mass in kilograms:  50\n",
      "Enter an accelaration in meters/seconds**2:  60\n"
     ]
    },
    {
     "name": "stdout",
     "output_type": "stream",
     "text": [
      "The Fotce on a object is 3000.0\n"
     ]
    }
   ],
   "source": [
    "m = float(input(\"Enter a mass in kilograms: \"))\n",
    "a = float(input(\"Enter an accelaration in meters/seconds**2: \"))\n",
    "F = m*a\n",
    "print(f\"The Fotce on a object is {F}\")"
   ]
  },
  {
   "cell_type": "markdown",
   "id": "78ec3770-4034-42a2-bb6b-4ec8a8230b9a",
   "metadata": {},
   "source": [
    "## 7) Compound Interest: "
   ]
  },
  {
   "cell_type": "code",
   "execution_count": 28,
   "id": "fa91dc24-b970-4dab-ba01-d9afd5144e9d",
   "metadata": {},
   "outputs": [
    {
     "name": "stdin",
     "output_type": "stream",
     "text": [
      "Enter a princinpal ammount:  50000\n",
      "Enter an annual interest rate (decimal):  0.5\n",
      "Enter a time in years:  4\n",
      "Enter a number of times interest compounded per year:  4\n"
     ]
    },
    {
     "name": "stdout",
     "output_type": "stream",
     "text": [
      "The compound Intrest of given amount is 50000.0\n"
     ]
    }
   ],
   "source": [
    "P = float(input(\"Enter a princinpal ammount: \"))\n",
    "r = float(input(\"Enter an annual interest rate (decimal): \"))\n",
    "t = float(input(\"Enter a time in years: \"))\n",
    "n = float(input(\"Enter a number of times interest compounded per year: \")) \n",
    "\n",
    "A = P*(1+r/n)**(n-t)\n",
    "print(f'The compound Intrest of given amount is {A}')"
   ]
  },
  {
   "cell_type": "markdown",
   "id": "b6e556d6-8d2f-4068-9fc0-4160f2668187",
   "metadata": {},
   "source": [
    "## 8) Perimeter of a Triangle: "
   ]
  },
  {
   "cell_type": "code",
   "execution_count": 33,
   "id": "862707b7-15e2-4dce-a4a4-85c7c93f99f3",
   "metadata": {},
   "outputs": [
    {
     "name": "stdin",
     "output_type": "stream",
     "text": [
      "Enter the length of side a:  4\n",
      "Enter the length of side b:  3\n",
      "Enter the length of side c:  5\n"
     ]
    },
    {
     "name": "stdout",
     "output_type": "stream",
     "text": [
      "The perimeter of the triangle is 12.0\n"
     ]
    }
   ],
   "source": [
    "a = float(input(\"Enter the length of side a: \"))\n",
    "b = float(input(\"Enter the length of side b: \"))\n",
    "c = float(input(\"Enter the length of side c: \"))\n",
    "\n",
    "perimeter = a + b + c\n",
    "\n",
    "print(f\"The perimeter of the triangle is {perimeter}\")"
   ]
  },
  {
   "cell_type": "markdown",
   "id": "dd77044e-c140-46b3-b972-29ba188b72d7",
   "metadata": {},
   "source": [
    "## 9) Volume of a Sphere: "
   ]
  },
  {
   "cell_type": "code",
   "execution_count": 34,
   "id": "4373b438-b391-4193-ac5d-9d5a9324eb82",
   "metadata": {},
   "outputs": [
    {
     "name": "stdin",
     "output_type": "stream",
     "text": [
      "Enter the radius of the sphere:  5\n"
     ]
    },
    {
     "name": "stdout",
     "output_type": "stream",
     "text": [
      "The volume of the sphere is: 523.5987755982989\n"
     ]
    }
   ],
   "source": [
    "import math\n",
    "\n",
    "r = float(input(\"Enter the radius of the sphere: \"))\n",
    "volume = (4/3) * math.pi * r**3\n",
    "print(f\"The volume of the sphere is: {volume}\")\n"
   ]
  },
  {
   "cell_type": "markdown",
   "id": "05405fb0-1718-49b8-ace8-c0efa6be1eda",
   "metadata": {},
   "source": [
    "## 10) Kinetic Energy: "
   ]
  },
  {
   "cell_type": "code",
   "execution_count": 36,
   "id": "1c09a245-972b-4934-b7d6-b2c3049297dc",
   "metadata": {},
   "outputs": [
    {
     "name": "stdin",
     "output_type": "stream",
     "text": [
      "Enter the mass of the object (kg):  50\n",
      "Enter the velocity of the object (m/s):  78\n"
     ]
    },
    {
     "name": "stdout",
     "output_type": "stream",
     "text": [
      "The kinetic energy of the object is: 152100.0\n"
     ]
    }
   ],
   "source": [
    "m = float(input(\"Enter the mass of the object (kg): \"))\n",
    "v = float(input(\"Enter the velocity of the object (m/s): \"))\n",
    "KE = 1/2 * m * v**2\n",
    "print(\"The kinetic energy of the object is:\", KE)"
   ]
  },
  {
   "cell_type": "markdown",
   "id": "4f552f1c-ac6a-4970-a13b-3e3c04b70a04",
   "metadata": {},
   "source": [
    "## 11) Quadratic Equation Roots: \r"
   ]
  },
  {
   "cell_type": "code",
   "execution_count": 37,
   "id": "66daf4e7-ca88-45ea-84c8-ec75efe22781",
   "metadata": {},
   "outputs": [
    {
     "name": "stdin",
     "output_type": "stream",
     "text": [
      "Enter value of a:  5\n",
      "Enter value of b:  7\n",
      "Enter value of c:  6\n"
     ]
    },
    {
     "name": "stdout",
     "output_type": "stream",
     "text": [
      "The roots of the quadratic equation are: (-0.7+0.8426149773176359j) and (-0.7000000000000001-0.8426149773176359j)\n"
     ]
    }
   ],
   "source": [
    "a = float(input(\"Enter value of a: \"))\n",
    "b = float(input(\"Enter value of b: \"))\n",
    "c = float(input(\"Enter value of c: \"))\n",
    "\n",
    "discriminant = b**2 - 4*a*c\n",
    "root1 = (-b + discriminant**0.5) / (2*a)\n",
    "root2 = (-b - discriminant**0.5) / (2*a)\n",
    "\n",
    "print(\"The roots of the quadratic equation are:\", root1, \"and\", root2)\n"
   ]
  },
  {
   "cell_type": "markdown",
   "id": "b8590ae8-73d1-46be-8340-789617cb896b",
   "metadata": {},
   "source": [
    "## 12) Temperature Conversion: "
   ]
  },
  {
   "cell_type": "code",
   "execution_count": 38,
   "id": "f3327d07-75ea-4e3e-9550-d493c0956101",
   "metadata": {},
   "outputs": [
    {
     "name": "stdin",
     "output_type": "stream",
     "text": [
      "Enter temperature in Celsius:  45\n"
     ]
    },
    {
     "name": "stdout",
     "output_type": "stream",
     "text": [
      "The temperature in Fahrenheit is: 113.0\n"
     ]
    }
   ],
   "source": [
    "C = float(input(\"Enter temperature in Celsius: \"))\n",
    "F = (9/5) * C + 32\n",
    "print(f\"The temperature in Fahrenheit is: {F}\")"
   ]
  },
  {
   "cell_type": "markdown",
   "id": "7c3425ff-8f54-45c4-b62d-cf227cef2055",
   "metadata": {},
   "source": [
    "## 13) Gravitational Force :"
   ]
  },
  {
   "cell_type": "code",
   "execution_count": 39,
   "id": "d8926fb6-ef27-436e-8271-aa383b2cb5ec",
   "metadata": {},
   "outputs": [
    {
     "name": "stdin",
     "output_type": "stream",
     "text": [
      "Enter the mass of the first object (kg):  6\n",
      "Enter the mass of the second object (kg):  6\n",
      "Enter the distance between the objects (m):  6\n"
     ]
    },
    {
     "name": "stdout",
     "output_type": "stream",
     "text": [
      "The gravitational force is: 6.674e-11 Newtons\n"
     ]
    }
   ],
   "source": [
    "G = 6.674 * (10**-11)\n",
    "\n",
    "m1 = float(input(\"Enter the mass of the first object (kg): \"))\n",
    "m2 = float(input(\"Enter the mass of the second object (kg): \"))\n",
    "r = float(input(\"Enter the distance between the objects (m): \"))\n",
    "\n",
    "F = G * m1 * m2 / r**2\n",
    "\n",
    "print(\"The gravitational force is:\", F, \"Newtons\")"
   ]
  },
  {
   "cell_type": "markdown",
   "id": "16977633-e31f-41dc-9c34-18ae0454cf2e",
   "metadata": {},
   "source": [
    "## 14) Volume of a Cylinder"
   ]
  },
  {
   "cell_type": "code",
   "execution_count": 42,
   "id": "3dbbdf32-b3e4-487b-9440-f9ed3fa348ad",
   "metadata": {},
   "outputs": [
    {
     "name": "stdin",
     "output_type": "stream",
     "text": [
      "Enter the radius of the cylinder (m):  7\n",
      "Enter the height of the cylinder (m):  8\n"
     ]
    },
    {
     "name": "stdout",
     "output_type": "stream",
     "text": [
      "The volume of the cylinder is: 1231.5043202071988 cubic meters\n"
     ]
    }
   ],
   "source": [
    "import math\n",
    "\n",
    "r = float(input(\"Enter the radius of the cylinder (m): \"))\n",
    "h = float(input(\"Enter the height of the cylinder (m): \"))\n",
    "\n",
    "volume = math.pi * r**2 * h\n",
    "print(f\"The volume of the cylinder is: {volume} cubic meters\")\n"
   ]
  },
  {
   "cell_type": "markdown",
   "id": "0ac3e1a9-38c2-4d94-9bd4-9c2732dceeed",
   "metadata": {},
   "source": [
    "## 15) Pressure:"
   ]
  },
  {
   "cell_type": "code",
   "execution_count": 43,
   "id": "7d59aae3-05d0-407a-8470-6464fe25bc39",
   "metadata": {},
   "outputs": [
    {
     "name": "stdin",
     "output_type": "stream",
     "text": [
      "Enter the force (N):  7\n",
      "Enter the area (m^2):  78\n"
     ]
    },
    {
     "name": "stdout",
     "output_type": "stream",
     "text": [
      "The pressure exerted on the surface is: 0.08974358974358974 Pascals\n"
     ]
    }
   ],
   "source": [
    "F = float(input(\"Enter the force (N): \"))\n",
    "A = float(input(\"Enter the area (m^2): \"))\n",
    "\n",
    "P = F / A\n",
    "print(f\"The pressure exerted on the surface is: {P} Pascals\")\n"
   ]
  },
  {
   "cell_type": "markdown",
   "id": "7464488c-cdff-423d-8563-b0114fb9b25a",
   "metadata": {},
   "source": [
    "## 16) Electric Power"
   ]
  },
  {
   "cell_type": "code",
   "execution_count": 44,
   "id": "ff6e5c4b-76f1-47b0-8f08-6172eb89cd3f",
   "metadata": {},
   "outputs": [
    {
     "name": "stdin",
     "output_type": "stream",
     "text": [
      "Enter the voltage (V):  7\n",
      "Enter the current (A):  8\n"
     ]
    },
    {
     "name": "stdout",
     "output_type": "stream",
     "text": [
      "The electric power consumed is: 56.0 Watts\n"
     ]
    }
   ],
   "source": [
    "V = float(input(\"Enter the voltage (V): \"))\n",
    "I = float(input(\"Enter the current (A): \"))\n",
    "\n",
    "P = V * I\n",
    "print(f\"The electric power consumed is: {P} Watts\")\n"
   ]
  },
  {
   "cell_type": "markdown",
   "id": "40ce3528-4930-432d-af28-3719ed2ca348",
   "metadata": {},
   "source": [
    "## 17) Perimeter of a Circle (Circumference): "
   ]
  },
  {
   "cell_type": "code",
   "execution_count": 45,
   "id": "cda42fc6-296d-4b6a-9103-d3c5407f6d7a",
   "metadata": {},
   "outputs": [
    {
     "name": "stdin",
     "output_type": "stream",
     "text": [
      "Enter the radius of the circle (m):  7\n"
     ]
    },
    {
     "name": "stdout",
     "output_type": "stream",
     "text": [
      "The perimeter (circumference) of the circle is: 43.982297150257104 meters\n"
     ]
    }
   ],
   "source": [
    "import math\n",
    "\n",
    "r = float(input(\"Enter the radius of the circle (m): \"))\n",
    "\n",
    "circumference = 2 * math.pi * r\n",
    "print(f\"The perimeter (circumference) of the circle is: {circumference} meters\")\n"
   ]
  },
  {
   "cell_type": "markdown",
   "id": "24395bdd-e3b1-4c11-bb42-6bc9ecc3089e",
   "metadata": {},
   "source": [
    "## 18) Future Value in Savings"
   ]
  },
  {
   "cell_type": "code",
   "execution_count": 48,
   "id": "663c17f5-5d91-4532-b224-892e227e0516",
   "metadata": {},
   "outputs": [
    {
     "name": "stdin",
     "output_type": "stream",
     "text": [
      "Enter the present value (initial investment):  7\n",
      "Enter the annual interest rate (as a decimal):  8\n",
      "Enter the time in years:  8\n"
     ]
    },
    {
     "name": "stdout",
     "output_type": "stream",
     "text": [
      "The future value of the investment is: 301327047.0\n"
     ]
    }
   ],
   "source": [
    "PV = float(input(\"Enter the present value (initial investment): \"))\n",
    "r = float(input(\"Enter the annual interest rate (as a decimal): \"))\n",
    "t = float(input(\"Enter the time in years: \"))\n",
    "\n",
    "FV = PV * (1 + r)**t\n",
    "print(f\"The future value of the investment is: {FV}\")\n"
   ]
  },
  {
   "cell_type": "markdown",
   "id": "c3d3468d-c90f-4035-b3d5-6348a9efa08b",
   "metadata": {},
   "source": [
    "## 19) Work Done by a Force:"
   ]
  },
  {
   "cell_type": "code",
   "execution_count": 49,
   "id": "d5b5afec-8ec1-4055-90fc-6399a7d1797a",
   "metadata": {},
   "outputs": [
    {
     "name": "stdin",
     "output_type": "stream",
     "text": [
      "Enter the force (N):  7\n",
      "Enter the distance (m):  9\n",
      "Enter the angle between force and direction (degrees):  56\n"
     ]
    },
    {
     "name": "stdout",
     "output_type": "stream",
     "text": [
      "The work done by the force is: 35.22915291865705 Joules\n"
     ]
    }
   ],
   "source": [
    "import math\n",
    "\n",
    "f = float(input(\"Enter the force (N): \"))\n",
    "d = float(input(\"Enter the distance (m): \"))\n",
    "theta = float(input(\"Enter the angle between force and direction (degrees): \"))\n",
    "\n",
    "theta_rad = math.radians(theta) \n",
    "W = f * d * math.cos(theta_rad)\n",
    "print(f\"The work done by the force is: {W} Joules\")\n"
   ]
  },
  {
   "cell_type": "markdown",
   "id": "57b6fa5d-8747-4334-b26a-33527331b4c1",
   "metadata": {},
   "source": [
    "## 20) Heat Transfer:"
   ]
  },
  {
   "cell_type": "code",
   "execution_count": 50,
   "id": "d226c751-a6fc-4b66-a5d3-579b601c5685",
   "metadata": {},
   "outputs": [
    {
     "name": "stdin",
     "output_type": "stream",
     "text": [
      "Enter the mass (kg):  5\n",
      "Enter the specific heat capacity (J/kg°C):  6\n",
      "Enter the temperature change (°C):  4\n"
     ]
    },
    {
     "name": "stdout",
     "output_type": "stream",
     "text": [
      "The amount of heat transferred is: 120.0 Joules\n"
     ]
    }
   ],
   "source": [
    "m = float(input(\"Enter the mass (kg): \"))\n",
    "c = float(input(\"Enter the specific heat capacity (J/kg°C): \"))\n",
    "T = float(input(\"Enter the temperature change (°C): \"))\n",
    "Q = m * c * T\n",
    "print(f\"The amount of heat transferred is: {Q} Joules\")\n"
   ]
  },
  {
   "cell_type": "code",
   "execution_count": null,
   "id": "b38c5b34-059b-4709-9bbc-a5e98d9da2b4",
   "metadata": {},
   "outputs": [],
   "source": []
  }
 ],
 "metadata": {
  "kernelspec": {
   "display_name": "Python 3 (ipykernel)",
   "language": "python",
   "name": "python3"
  },
  "language_info": {
   "codemirror_mode": {
    "name": "ipython",
    "version": 3
   },
   "file_extension": ".py",
   "mimetype": "text/x-python",
   "name": "python",
   "nbconvert_exporter": "python",
   "pygments_lexer": "ipython3",
   "version": "3.12.7"
  }
 },
 "nbformat": 4,
 "nbformat_minor": 5
}
