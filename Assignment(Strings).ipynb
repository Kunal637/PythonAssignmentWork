{
 "cells": [
  {
   "cell_type": "code",
   "execution_count": 2,
   "id": "75209c4b-55bd-479a-9dab-0629895abd72",
   "metadata": {},
   "outputs": [
    {
     "name": "stdin",
     "output_type": "stream",
     "text": [
      "Enter a string:  hello im using python\n"
     ]
    },
    {
     "name": "stdout",
     "output_type": "stream",
     "text": [
      "Number of vowels: 6\n"
     ]
    }
   ],
   "source": [
    "string = input(\"Enter a string: \")\n",
    "vowels = \"aeiouAEIOU\"\n",
    "count = 0\n",
    "for char in string:\n",
    "    if char in vowels:\n",
    "        count += 1\n",
    "print(\"Number of vowels:\", count)\n"
   ]
  },
  {
   "cell_type": "code",
   "execution_count": 3,
   "id": "e24b5328-54ff-4499-8447-c96b49229258",
   "metadata": {},
   "outputs": [
    {
     "name": "stdin",
     "output_type": "stream",
     "text": [
      "Enter a string:  hello\n"
     ]
    },
    {
     "name": "stdout",
     "output_type": "stream",
     "text": [
      "Uppercase letters: 0\n",
      "Lowercase letters: 5\n",
      "Digits: 0\n",
      "Whitespace characters: 0\n"
     ]
    }
   ],
   "source": [
    "string = input(\"Enter a string: \")\n",
    "uppercase = lowercase = digits = whitespace = 0\n",
    "\n",
    "for char in string:\n",
    "    if char.isupper():\n",
    "        uppercase += 1\n",
    "    elif char.islower():\n",
    "        lowercase += 1\n",
    "    elif char.isdigit():\n",
    "        digits += 1\n",
    "    elif char.isspace():\n",
    "        whitespace += 1\n",
    "\n",
    "print(f\"Uppercase letters: {uppercase}\")\n",
    "print(f\"Lowercase letters: {lowercase}\")\n",
    "print(f\"Digits: {digits}\")\n",
    "print(f\"Whitespace characters: {whitespace}\")\n"
   ]
  },
  {
   "cell_type": "code",
   "execution_count": 6,
   "id": "2a071d73-b421-4ab0-9500-a407e90fecc1",
   "metadata": {},
   "outputs": [
    {
     "name": "stdin",
     "output_type": "stream",
     "text": [
      "Enter a string:  Raar\n"
     ]
    },
    {
     "name": "stdout",
     "output_type": "stream",
     "text": [
      "New string: raaR\n"
     ]
    }
   ],
   "source": [
    "string = input(\"Enter a string: \")\n",
    "if len(string) > 1:\n",
    "    new_string = string[-1] + string[1:-1] + string[0]\n",
    "else:\n",
    "    new_string = string\n",
    "print(\"New string:\", new_string)\n"
   ]
  },
  {
   "cell_type": "code",
   "execution_count": 7,
   "id": "b847693d-f84c-44fa-a03f-0630b2db748c",
   "metadata": {},
   "outputs": [
    {
     "name": "stdin",
     "output_type": "stream",
     "text": [
      "Enter a string:  hey\n"
     ]
    },
    {
     "name": "stdout",
     "output_type": "stream",
     "text": [
      "Reversed string: yeh\n"
     ]
    }
   ],
   "source": [
    "string = input(\"Enter a string: \")\n",
    "reversed_string = \"\"\n",
    "for char in string:\n",
    "    reversed_string = char + reversed_string\n",
    "print(\"Reversed string:\", reversed_string)"
   ]
  },
  {
   "cell_type": "code",
   "execution_count": 8,
   "id": "99ada784-e7cb-43cb-a11a-bc335f74abec",
   "metadata": {},
   "outputs": [
    {
     "name": "stdin",
     "output_type": "stream",
     "text": [
      "Enter a string:  hello\n"
     ]
    },
    {
     "name": "stdout",
     "output_type": "stream",
     "text": [
      "Shifted string: elloh\n"
     ]
    }
   ],
   "source": [
    "string = input(\"Enter a string: \")\n",
    "shifted_string = string[1:] + string[0]\n",
    "print(\"Shifted string:\", shifted_string)\n"
   ]
  },
  {
   "cell_type": "code",
   "execution_count": 9,
   "id": "0f16ac39-396c-4709-baa5-330f042715b1",
   "metadata": {},
   "outputs": [
    {
     "name": "stdin",
     "output_type": "stream",
     "text": [
      "Enter your full name:  Kunal Maheshwari\n"
     ]
    },
    {
     "name": "stdout",
     "output_type": "stream",
     "text": [
      "Initials: K.M.\n"
     ]
    }
   ],
   "source": [
    "name = input(\"Enter your full name: \")\n",
    "initials = name[0] + \".\"\n",
    "for i in range(1, len(name)):\n",
    "    if name[i] == \" \":\n",
    "        initials += name[i + 1] + \".\"\n",
    "print(\"Initials:\", initials)\n"
   ]
  },
  {
   "cell_type": "code",
   "execution_count": 13,
   "id": "8a328386-9331-4535-bfbd-d2cb942d5c7f",
   "metadata": {},
   "outputs": [
    {
     "name": "stdin",
     "output_type": "stream",
     "text": [
      "Enter a string:  dad\n"
     ]
    },
    {
     "name": "stdout",
     "output_type": "stream",
     "text": [
      "The string is a palindrome.\n"
     ]
    }
   ],
   "source": [
    "string = input(\"Enter a string: \")\n",
    "is_palindrome = True\n",
    "for i in range(len(string) // 2):\n",
    "    if string[i] != string[-(i + 1)]:\n",
    "        is_palindrome = False\n",
    "        break\n",
    "if is_palindrome:\n",
    "    print(\"The string is a palindrome.\")\n",
    "else:\n",
    "    print(\"The string is not a palindrome.\")\n"
   ]
  },
  {
   "cell_type": "code",
   "execution_count": 14,
   "id": "d6a1d81a-52e8-413b-b9f8-daa67b9129b7",
   "metadata": {},
   "outputs": [
    {
     "name": "stdout",
     "output_type": "stream",
     "text": [
      "SHIFT\n",
      "HIFTS\n",
      "IFTSH\n",
      "FTSHI\n",
      "TSHIF\n"
     ]
    }
   ],
   "source": [
    "string = \"SHIFT\"\n",
    "for i in range(len(string)):\n",
    "    print(string[i:] + string[:i])\n"
   ]
  },
  {
   "cell_type": "code",
   "execution_count": 17,
   "id": "4432c4d0-8279-473c-81e4-3d6239b550c3",
   "metadata": {},
   "outputs": [
    {
     "name": "stdin",
     "output_type": "stream",
     "text": [
      "Enter your password:  Hello@555\n"
     ]
    },
    {
     "name": "stdout",
     "output_type": "stream",
     "text": [
      "Password is valid.\n"
     ]
    }
   ],
   "source": [
    "password = input(\"Enter your password: \")\n",
    "\n",
    "if len(password) >= 8 and any(char.isupper() for char in password) and \\\n",
    "   any(char.islower() for char in password) and any(char.isdigit() for char in password):\n",
    "    print(\"Password is valid.\")\n",
    "else:\n",
    "    print(\"Password is invalid. Make sure it meets all criteria.\")\n"
   ]
  },
  {
   "cell_type": "code",
   "execution_count": null,
   "id": "85e30cc9-d040-44c5-8528-601c5d4981f8",
   "metadata": {},
   "outputs": [],
   "source": []
  }
 ],
 "metadata": {
  "kernelspec": {
   "display_name": "Python 3 (ipykernel)",
   "language": "python",
   "name": "python3"
  },
  "language_info": {
   "codemirror_mode": {
    "name": "ipython",
    "version": 3
   },
   "file_extension": ".py",
   "mimetype": "text/x-python",
   "name": "python",
   "nbconvert_exporter": "python",
   "pygments_lexer": "ipython3",
   "version": "3.12.7"
  }
 },
 "nbformat": 4,
 "nbformat_minor": 5
}
